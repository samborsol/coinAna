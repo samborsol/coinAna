{
 "cells": [
  {
   "cell_type": "code",
   "execution_count": 1,
   "metadata": {},
   "outputs": [],
   "source": [
    "import requests\n",
    "import json\n",
    "import csv"
   ]
  },
  {
   "cell_type": "code",
   "execution_count": 2,
   "metadata": {},
   "outputs": [],
   "source": [
    "def getBlockHeaders(block_height_start,block_height_end,file_name):\n",
    "    # bitmonerod is running on the localhost and port of 18082\n",
    "    url = \"http://localhost:18081/json_rpc\"\n",
    "\n",
    "    # standard json header\n",
    "    headers = {'content-type': 'application/json'}\n",
    "\n",
    "    # the block to get\n",
    "    # bitmonerod' procedure/method to call\n",
    "    rpc_input = {\n",
    "           \"method\": \"getblockheadersrange\",\n",
    "           \"params\": {\"start_height\": block_height_start, \"end_height\":block_height_end }\n",
    "    }\n",
    "\n",
    "    # add standard rpc values\n",
    "    rpc_input.update({\"jsonrpc\": \"2.0\", \"id\": \"0\"})\n",
    "\n",
    "    # execute the rpc request\n",
    "    response = requests.post(\n",
    "        url,\n",
    "        data=json.dumps(rpc_input),\n",
    "        headers=headers)\n",
    "\n",
    "    # the response will contain binary blob. For some reason\n",
    "    # python's json encoder will crash trying to parse such\n",
    "    # response. Thus, its better to remove it from the response.\n",
    "    response_json_clean = json.loads(\n",
    "                            \"\\n\".join(filter(\n",
    "                                lambda l: \"blob\" not in l, response.text.split(\"\\n\")\n",
    "                            )))\n",
    "\n",
    "    # pretty print json output\n",
    "    with open(file_name, \"w\") as text_file:\n",
    "        text_file.write(json.dumps(response_json_clean, indent=4))"
   ]
  },
  {
   "cell_type": "code",
   "execution_count": 3,
   "metadata": {},
   "outputs": [],
   "source": [
    "getBlockHeaders(1,1000,\"json/output.txt\")"
   ]
  },
  {
   "cell_type": "code",
   "execution_count": 4,
   "metadata": {},
   "outputs": [],
   "source": [
    "with open('json/output.txt') as json_data:\n",
    "    d = json.load(json_data)"
   ]
  },
  {
   "cell_type": "code",
   "execution_count": 5,
   "metadata": {},
   "outputs": [],
   "source": [
    "with open('csv/output.csv','wb') as f:\n",
    "    w = csv.DictWriter(f,\n",
    "                      fieldnames='nonce reward hash timestamp block_weight major_version cumulative_difficulty '\n",
    "                      'height difficulty depth long_term_weight prev_hash pow_hash orphan_status block_size '\n",
    "                      'minor_version num_txes'.split(),\n",
    "                      extrasaction='ignore')\n",
    "    w.writeheader()\n",
    "    w.writerows(d['result']['headers'])"
   ]
  },
  {
   "cell_type": "code",
   "execution_count": null,
   "metadata": {},
   "outputs": [],
   "source": []
  }
 ],
 "metadata": {
  "kernelspec": {
   "display_name": "Python 2",
   "language": "python",
   "name": "python2"
  },
  "language_info": {
   "codemirror_mode": {
    "name": "ipython",
    "version": 2
   },
   "file_extension": ".py",
   "mimetype": "text/x-python",
   "name": "python",
   "nbconvert_exporter": "python",
   "pygments_lexer": "ipython2",
   "version": "2.7.15rc1"
  }
 },
 "nbformat": 4,
 "nbformat_minor": 2
}
